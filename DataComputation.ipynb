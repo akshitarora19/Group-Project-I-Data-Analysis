{
 "cells": [
  {
   "cell_type": "code",
   "execution_count": 1,
   "metadata": {},
   "outputs": [],
   "source": [
    "# Importing Dependencies\n",
    "import pandas as pd\n",
    "import numpy as np"
   ]
  },
  {
   "cell_type": "code",
   "execution_count": 2,
   "metadata": {},
   "outputs": [],
   "source": [
    "# Creating a Python DataFrame\n",
    "full_data_df = pd.read_csv('Resources\\WDIData.csv')\n",
    "\n",
    "# List of Countries\n",
    "country_list = ['Canada']\n",
    "output = {}"
   ]
  },
  {
   "cell_type": "code",
   "execution_count": 4,
   "metadata": {
    "scrolled": false
   },
   "outputs": [],
   "source": [
    "def create_dataFrame(country_list, full_data_df, output):\n",
    "########################################################\n",
    "# Arguments: country_list = A List with country names\n",
    "#            full_data_df = Pandas DataFrame\n",
    "#            output       = Empty Dictionary\n",
    "########################################################\n",
    "    for country in country_list:\n",
    "        # CO2 Emission Computations\n",
    "        CO2_emissions_df = full_data_df[full_data_df['Indicator Name'] == 'CO2 emissions (metric tons per capita)']\n",
    "\n",
    "        # Isolating values for the particular country and creating a separate DataFrame\n",
    "        CO2_emissions_updated = CO2_emissions_df[CO2_emissions_df['Country Name'] == country].T\n",
    "\n",
    "        # Data Clean-Up\n",
    "        cell_count = int(CO2_emissions_updated.columns[0])\n",
    "        CO2_emissions_updated = CO2_emissions_updated.rename(columns = {cell_count: \"CO2 Emissions\"})\n",
    "        CO2_emissions_updated = CO2_emissions_updated.reset_index().iloc[4:]\n",
    "        CO2_emissions_updated = CO2_emissions_updated.rename(columns = {\"index\": \"Years\"})\n",
    "\n",
    "\n",
    "        # Forest Area Percentage Computations\n",
    "        Forest_Area_df = full_data_df[full_data_df['Indicator Name'] == 'Forest area (% of land area)']\n",
    "\n",
    "        # Isolating values for the particular country and creating a separate DataFrame\n",
    "        Forest_Area_updated = Forest_Area_df[Forest_Area_df['Country Name'] == country].T\n",
    "\n",
    "        # Data Clean-Up\n",
    "        cell_count = int(Forest_Area_updated.columns[0])\n",
    "        Forest_Area_updated = Forest_Area_updated.rename(columns = {cell_count: \"Forest Area Percentage\"})\n",
    "        Forest_Area_updated = Forest_Area_updated.dropna()\n",
    "        Forest_Area_updated = Forest_Area_updated.reset_index().iloc[4:]\n",
    "        Forest_Area_updated = Forest_Area_updated.rename(columns = {\"index\": \"Years\"})\n",
    "\n",
    "\n",
    "        # Air Pollution Computation\n",
    "        air_pollution_df = full_data_df[full_data_df['Indicator Name'] == 'PM2.5 air pollution, mean annual exposure (micrograms per cubic meter)']\n",
    "\n",
    "        # Isolating values for the particular country and creating a separate DataFrame\n",
    "        air_pollution_updated = air_pollution_df[air_pollution_df['Country Name'] == country].T\n",
    "\n",
    "        # Data Clean-Up\n",
    "        cell_count = int(air_pollution_updated.columns[0])\n",
    "        air_pollution_updated = air_pollution_updated.rename(columns = {cell_count: \"Air Pollution Index\"})\n",
    "        air_pollution_updated = air_pollution_updated.dropna().iloc[4:].reset_index()\n",
    "        air_pollution_updated = air_pollution_updated.rename(columns = {\"index\": \"Years\"})\n",
    "\n",
    "        output[country] = [CO2_emissions_updated, Forest_Area_updated, air_pollution_updated]\n",
    "        \n",
    "        return output"
   ]
  },
  {
   "cell_type": "code",
   "execution_count": 5,
   "metadata": {
    "scrolled": true
   },
   "outputs": [],
   "source": [
    "new_dict = create_dataFrame(country_list = country_list, full_data_df = full_data_df, output = output)"
   ]
  },
  {
   "cell_type": "code",
   "execution_count": 8,
   "metadata": {},
   "outputs": [
    {
     "data": {
      "text/plain": [
       "pandas.core.frame.DataFrame"
      ]
     },
     "execution_count": 8,
     "metadata": {},
     "output_type": "execute_result"
    }
   ],
   "source": [
    "\n",
    "type(new_dict['Canada'][0])"
   ]
  },
  {
   "cell_type": "code",
   "execution_count": null,
   "metadata": {},
   "outputs": [],
   "source": []
  },
  {
   "cell_type": "code",
   "execution_count": null,
   "metadata": {},
   "outputs": [],
   "source": []
  }
 ],
 "metadata": {
  "kernelspec": {
   "display_name": "Python 3",
   "language": "python",
   "name": "python3"
  },
  "language_info": {
   "codemirror_mode": {
    "name": "ipython",
    "version": 3
   },
   "file_extension": ".py",
   "mimetype": "text/x-python",
   "name": "python",
   "nbconvert_exporter": "python",
   "pygments_lexer": "ipython3",
   "version": "3.7.3"
  }
 },
 "nbformat": 4,
 "nbformat_minor": 2
}
